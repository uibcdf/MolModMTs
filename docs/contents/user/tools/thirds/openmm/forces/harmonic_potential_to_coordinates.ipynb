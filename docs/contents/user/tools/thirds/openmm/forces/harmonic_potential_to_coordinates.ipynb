{
 "cells": [
  {
   "cell_type": "markdown",
   "id": "2220dee4-4bed-4435-ab24-b172c8d7afc6",
   "metadata": {},
   "source": [
    "# Harmonic potential to coordinates"
   ]
  },
  {
   "cell_type": "markdown",
   "id": "d27a744f-df4f-43a4-a9b6-b57cdf04d916",
   "metadata": {},
   "source": [
    "## Over the weighted center of a group of atoms"
   ]
  },
  {
   "cell_type": "code",
   "execution_count": 1,
   "id": "a3167504-4779-4f79-88ff-f8d1a84bfc39",
   "metadata": {},
   "outputs": [
    {
     "data": {
      "application/vnd.jupyter.widget-view+json": {
       "model_id": "e927f74835834847963276fe8c109952",
       "version_major": 2,
       "version_minor": 0
      },
      "text/plain": []
     },
     "metadata": {},
     "output_type": "display_data"
    }
   ],
   "source": [
    "import molsysmt as msm\n",
    "from molsysmt import pyunitwizard as puw\n",
    "import numpy as np"
   ]
  },
  {
   "cell_type": "code",
   "execution_count": 2,
   "id": "72183891-c210-4c4d-ba99-cf6fd87eef1f",
   "metadata": {},
   "outputs": [],
   "source": [
    "box = np.zeros((3,3))\n",
    "box[0,0] = 3.0\n",
    "box[1,1] = 3.0\n",
    "box[2,2] = 3.0\n",
    "box = msm.pyunitwizard.quantity(box, 'nm')\n",
    "\n",
    "water_box = msm.build.make_water_box(box)\n",
    "\n",
    "peptide = msm.build.build_peptide('ACEALAALANME')\n",
    "peptide = msm.structure.center(peptide, center_coordinates=0.5*box.diagonal())\n",
    "\n",
    "molsys = msm.merge([water_box, peptide])\n",
    "\n",
    "molsys = msm.build.remove_overlapping_molecules(molsys, selection='atom_type!=\"H\" and molecule_type==\"water\"',\n",
    "                                                selection_2='atom_type!=\"H\" and molecule_type==\"peptide\"',\n",
    "                                                threshold='3 angstroms')"
   ]
  },
  {
   "cell_type": "code",
   "execution_count": 3,
   "id": "eb2f8fbc-ab8f-4afe-9a1a-0b8aeb9db317",
   "metadata": {},
   "outputs": [],
   "source": [
    "topology = msm.convert(molsys, to_form='openmm.Topology')\n",
    "coordinates = msm.get(molsys, coordinates=True)\n",
    "positions = puw.convert(coordinates, to_form='openmm.unit')"
   ]
  },
  {
   "cell_type": "code",
   "execution_count": null,
   "id": "35904b04-210c-4d09-81c3-945e92f7ba36",
   "metadata": {},
   "outputs": [],
   "source": []
  },
  {
   "cell_type": "code",
   "execution_count": null,
   "id": "e4004fd3-2b56-4031-8337-2107a183d8a7",
   "metadata": {},
   "outputs": [],
   "source": []
  },
  {
   "cell_type": "code",
   "execution_count": null,
   "id": "6c87b26e-c9d2-4fef-b565-2c89002bbfca",
   "metadata": {},
   "outputs": [],
   "source": []
  },
  {
   "cell_type": "code",
   "execution_count": null,
   "id": "5bc8f6b1-7701-4b26-bc45-649a4bb3607b",
   "metadata": {},
   "outputs": [],
   "source": [
    "import numpy as np\n",
    "import molsysmt as msm\n",
    "import openmm as mm\n",
    "import openmm.unit as u"
   ]
  },
  {
   "cell_type": "code",
   "execution_count": null,
   "id": "2ffecc05-9a37-4d07-b868-2d7002d59130",
   "metadata": {},
   "outputs": [],
   "source": [
    "system = mm.System()"
   ]
  },
  {
   "cell_type": "code",
   "execution_count": null,
   "id": "8a64231e-df5b-4753-853d-b90998a26c49",
   "metadata": {},
   "outputs": [],
   "source": [
    "system.addParticle(1.0*u.amu)"
   ]
  },
  {
   "cell_type": "code",
   "execution_count": null,
   "id": "120f6468-4457-4d8b-bcb9-9dd664f179d1",
   "metadata": {},
   "outputs": [],
   "source": [
    "# Periodic box vectors.\n",
    "a = [5.0, 0.0, 0.0]*u.nanometer\n",
    "b = [0.0, 5.0, 0.0]*u.nanometer\n",
    "c = [0.0, 0.0, 5.0]*u.nanometer"
   ]
  },
  {
   "cell_type": "code",
   "execution_count": null,
   "id": "c0c195a4-52b9-4bc7-9281-8d0e1e427d8e",
   "metadata": {},
   "outputs": [],
   "source": [
    "system.setDefaultPeriodicBoxVectors(a, b, c)"
   ]
  },
  {
   "cell_type": "code",
   "execution_count": null,
   "id": "d8d58c14-523b-4bbc-b621-2a6b31b84afd",
   "metadata": {},
   "outputs": [],
   "source": [
    "step_size = 0.1*u.femtoseconds\n",
    "\n",
    "integrator = mm.VerletIntegrator(step_size)\n",
    "\n",
    "# Creación de la plataforma.\n",
    "\n",
    "platform_name = 'CPU'\n",
    "platform = mm.Platform.getPlatformByName(platform_name)\n",
    "\n",
    "# Creación del contexto.\n",
    "\n",
    "context = mm.Context(system, integrator, platform)"
   ]
  },
  {
   "cell_type": "code",
   "execution_count": null,
   "id": "411f590a-d0cd-4d38-9254-a0cd5327a75b",
   "metadata": {},
   "outputs": [],
   "source": [
    "positions = np.zeros([1, 3], np.float32) * u.nanometer\n",
    "velocities = np.zeros([1, 3], np.float32) * u.nanometer/u.picoseconds\n",
    "\n",
    "context.setPositions(positions)\n",
    "context.setVelocities(velocities)"
   ]
  },
  {
   "cell_type": "code",
   "execution_count": null,
   "id": "2bae355c-cfd2-4866-9136-d07488a6b409",
   "metadata": {},
   "outputs": [],
   "source": [
    "context.getState(getEnergy=True).getPotentialEnergy()"
   ]
  },
  {
   "cell_type": "code",
   "execution_count": null,
   "id": "418824d8-f18a-4f0a-b5b1-5167f5bfe62c",
   "metadata": {},
   "outputs": [],
   "source": [
    "zs = np.linspace(-5.0,5.0,100)*u.nanometer"
   ]
  },
  {
   "cell_type": "code",
   "execution_count": null,
   "id": "70e8b592-bd08-473a-9b44-435b096d515f",
   "metadata": {},
   "outputs": [],
   "source": [
    "U_before = np.zeros([100], np.float32) * u.kilojoules_per_mole"
   ]
  },
  {
   "cell_type": "code",
   "execution_count": null,
   "id": "8ecd925f-21da-4dc6-b51f-3c6f9aaf2dec",
   "metadata": {},
   "outputs": [],
   "source": [
    "for ii in range(100):\n",
    "    positions[0,2]=zs[ii]\n",
    "    context.setPositions(positions)\n",
    "    U_before[ii]=context.getState(getEnergy=True).getPotentialEnergy()"
   ]
  },
  {
   "cell_type": "code",
   "execution_count": null,
   "id": "40d7d102-8854-467d-baf3-6adc5770501c",
   "metadata": {},
   "outputs": [],
   "source": [
    "U_before"
   ]
  },
  {
   "cell_type": "code",
   "execution_count": null,
   "id": "7ce24707-df0e-4c74-b8f8-ad1027070ab0",
   "metadata": {},
   "outputs": [],
   "source": []
  }
 ],
 "metadata": {
  "kernelspec": {
   "display_name": "Python 3 (ipykernel)",
   "language": "python",
   "name": "python3"
  },
  "language_info": {
   "codemirror_mode": {
    "name": "ipython",
    "version": 3
   },
   "file_extension": ".py",
   "mimetype": "text/x-python",
   "name": "python",
   "nbconvert_exporter": "python",
   "pygments_lexer": "ipython3",
   "version": "3.10.12"
  }
 },
 "nbformat": 4,
 "nbformat_minor": 5
}
